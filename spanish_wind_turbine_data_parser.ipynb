{
 "cells": [
  {
   "cell_type": "code",
   "execution_count": 17,
   "metadata": {},
   "outputs": [],
   "source": [
    "from bs4 import BeautifulSoup\n",
    "import csv\n",
    "\n",
    "data = []\n",
    "\n",
    "with open('Historical – Sotavento.htm') as file:\n",
    "    contents = file.read()\n",
    "    \n",
    "    soup = BeautifulSoup(contents, 'lxml')\n",
    "    table_rows = soup.select(\"#taboa tr\")\n",
    "    \n",
    "    for row in table_rows:\n",
    "        row_data = []\n",
    "        for cell in [e.text for e in row.children if e.name is not None]:\n",
    "            row_data.append(cell)\n",
    "        data.append(row_data)\n",
    "            \n",
    "with open('dataset.csv', 'w') as dataset:\n",
    "    writer = csv.writer(dataset)\n",
    "    for row in data:\n",
    "        writer.writerow(row)\n",
    "    "
   ]
  }
 ],
 "metadata": {
  "kernelspec": {
   "display_name": "Python 3",
   "language": "python",
   "name": "python3"
  },
  "language_info": {
   "codemirror_mode": {
    "name": "ipython",
    "version": 3
   },
   "file_extension": ".py",
   "mimetype": "text/x-python",
   "name": "python",
   "nbconvert_exporter": "python",
   "pygments_lexer": "ipython3",
   "version": "3.7.4"
  }
 },
 "nbformat": 4,
 "nbformat_minor": 2
}
